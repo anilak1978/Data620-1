{
 "cells": [
  {
   "cell_type": "markdown",
   "metadata": {},
   "source": [
    "# Final Project Proposal"
   ]
  },
  {
   "cell_type": "markdown",
   "metadata": {},
   "source": [
    "Team Info\n",
    "\n",
    "Our team members are as follows:\n",
    "\n",
    "**Simon Ustoyev\n",
    "\n",
    "**Jack Russo\n",
    "\n",
    "**Elina Azrilyan\n",
    "\n",
    "**Anil Akyildirim\n"
   ]
  },
  {
   "cell_type": "markdown",
   "metadata": {},
   "source": [
    "For our Final Project our team will use a dataset which includes data on internal email communication network between employees in a mid-sized manufacturing company. The nodes respesent employees and edges between two nodes are individual emails.\n",
    "\n",
    "The dataset is located here:\n",
    "https://dataverse.harvard.edu/dataset.xhtml?persistentId=doi:10.7910/DVN/6Z3CGX"
   ]
  },
  {
   "cell_type": "markdown",
   "metadata": {},
   "source": [
    "We are going to explore this internal email communication network between employees in a mid-sized manufacturing company. There is information available about the organizational structure in a separate file that includes details about report to realtionships between the nodes. We will extract the information about key nodes in the Network and calculate various metrics to explore the relationship within managers and non-managers. \n",
    "\n",
    "We will read in the data and merge it with the reporting information data stored in separate file. We will see what connections insights can be extracted from these email interactions and see what we can determine from calculating various centrality measures. We can calculate betweenness centrality to determine how complex the interaction structure of this organization is. We will hypothesize that comparing Degree Centrality will allow us to identify the most well-connected employees in the company and determine how hierarchial levels of the organization impact internal communication. "
   ]
  },
  {
   "cell_type": "markdown",
   "metadata": {},
   "source": [
    "#Roles and Responsibilities\n",
    "\n",
    "**Simon Ustoyev (Hypothesis Testing/Analysis)\n",
    "\n",
    "**Jack Russo (Analysis/Summary/Conclusions)\n",
    "\n",
    "**Elina Azrilyan (Proposal/Data Clean-up/Analysis) \n",
    "\n",
    "**Anil Akyildirim (Data Exploration/Analysis)"
   ]
  },
  {
   "cell_type": "code",
   "execution_count": null,
   "metadata": {},
   "outputs": [],
   "source": []
  }
 ],
 "metadata": {
  "kernelspec": {
   "display_name": "Python 3",
   "language": "python",
   "name": "python3"
  },
  "language_info": {
   "codemirror_mode": {
    "name": "ipython",
    "version": 3
   },
   "file_extension": ".py",
   "mimetype": "text/x-python",
   "name": "python",
   "nbconvert_exporter": "python",
   "pygments_lexer": "ipython3",
   "version": "3.7.2"
  }
 },
 "nbformat": 4,
 "nbformat_minor": 2
}
